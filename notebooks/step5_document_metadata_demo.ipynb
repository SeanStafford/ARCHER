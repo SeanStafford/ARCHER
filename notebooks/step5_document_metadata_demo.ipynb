{
 "cells": [
  {
   "cell_type": "markdown",
   "metadata": {},
   "source": [
    "# Step 5: Document Metadata Parsing Demo\n",
    "\n",
    "This notebook demonstrates **document metadata extraction and generation** - parsing the LaTeX preamble (everything before `\\begin{document}`).\n",
    "\n",
    "## What We're Testing\n",
    "\n",
    "1. **Parse metadata from LaTeX preamble** - Extract `\\renewcommand` fields and colors\n",
    "2. **Generate preamble from metadata** - Convert back to LaTeX\n",
    "3. **Round-trip validation** - Verify metadata survives conversion\n",
    "\n",
    "## Success Criteria\n",
    "\n",
    "- ✅ All `\\renewcommand` fields extracted correctly\n",
    "- ✅ Color fields separated from general fields\n",
    "- ✅ Professional profile cleaned of LaTeX commands\n",
    "- ✅ Round-trip produces identical metadata"
   ]
  },
  {
   "cell_type": "code",
   "execution_count": 2,
   "metadata": {},
   "outputs": [
    {
     "name": "stdout",
     "output_type": "stream",
     "text": [
      "✓ Project root: /home/sean/ARCHER\n",
      "✓ Test fixtures: /home/sean/ARCHER/data/resume_archive/structured\n"
     ]
    }
   ],
   "source": [
    "import os\n",
    "import sys\n",
    "from pathlib import Path\n",
    "from dotenv import load_dotenv\n",
    "\n",
    "# Add project root to path\n",
    "project_root = Path.cwd().parent\n",
    "sys.path.insert(0, str(project_root))\n",
    "\n",
    "load_dotenv()\n",
    "STRUCTURED_PATH = Path(os.getenv(\"RESUME_ARCHIVE_PATH\")) / \"structured\"\n",
    "\n",
    "print(f\"✓ Project root: {project_root}\")\n",
    "print(f\"✓ Test fixtures: {STRUCTURED_PATH}\")"
   ]
  },
  {
   "cell_type": "code",
   "execution_count": 3,
   "metadata": {},
   "outputs": [
    {
     "name": "stdout",
     "output_type": "stream",
     "text": [
      "✓ Converters loaded\n"
     ]
    }
   ],
   "source": [
    "from archer.contexts.templating.converter import LaTeXToYAMLConverter, YAMLToLaTeXConverter\n",
    "from omegaconf import OmegaConf\n",
    "\n",
    "parser = LaTeXToYAMLConverter()\n",
    "generator = YAMLToLaTeXConverter()\n",
    "\n",
    "print(\"✓ Converters loaded\")"
   ]
  },
  {
   "cell_type": "markdown",
   "metadata": {},
   "source": [
    "## Step 1: Load Original LaTeX\n",
    "\n",
    "Load the test fixture with preamble metadata."
   ]
  },
  {
   "cell_type": "code",
   "execution_count": 7,
   "metadata": {},
   "outputs": [
    {
     "name": "stdout",
     "output_type": "stream",
     "text": [
      "Original LaTeX preamble (first 500 chars):\n",
      "============================================================\n",
      "\\documentclass[11pt,letterpaper,english,usenames,dvipsnames]{article}\n",
      "\n",
      "\\input{mystyle/packages.sty}\n",
      "\\input{mystyle/colors.sty}\n",
      "\\input{mystyle/gencommands.sty}\n",
      "\\input{mystyle/pagestyles.sty}\n",
      "\\input{mystyle/tables.sty}\n",
      "\\input{mystyle/symbols.sty}\n",
      "\\input{mystyle/panels.sty}\n",
      "\\input{mystyle/defaultspacing.sty}\n",
      "\\graphicspath{{./}{Figs/}}\n",
      "\n",
      "\\setlength{\\leftmargin}{0.4in}\n",
      "\\setlength{\\rightmargin}{0.5in}\n",
      "\\setlength{\\aboveheader}{10pt}\n",
      "\\setlength{\\bottommargin}{0.2in}\n",
      "\n",
      "\\renewcommand{\\pdfkeywords}{Sean, Sta\n",
      "...\n"
     ]
    }
   ],
   "source": [
    "latex_path = STRUCTURED_PATH / \"document_metadata_test.tex\"\n",
    "original_latex = latex_path.read_text(encoding=\"utf-8\")\n",
    "\n",
    "print(\"Original LaTeX preamble (first 500 chars):\")\n",
    "print(\"=\" * 60)\n",
    "print(original_latex[:500])\n",
    "print(\"...\")"
   ]
  },
  {
   "cell_type": "markdown",
   "metadata": {},
   "source": [
    "## Step 2: Parse LaTeX → Metadata Dict\n",
    "\n",
    "Extract all metadata from preamble."
   ]
  },
  {
   "cell_type": "code",
   "execution_count": null,
   "metadata": {},
   "outputs": [],
   "source": [
    "metadata = parser.extract_document_metadata(original_latex)\n",
    "\n",
    "print(\"Extracted Metadata:\")\n",
    "print(\"=\" * 60)\n",
    "print(f\"Name: {metadata['name']}\")\n",
    "print(f\"Date: {metadata['date']}\")\n",
    "print(f\"Brand: {metadata['brand']}\")\n",
    "print(f\"\\nProfessional Profile: {metadata['professional_profile']}\")\n",
    "print(f\"\\nColors:\")\n",
    "for color_key, color_val in metadata['colors'].items():\n",
    "    print(f\"  {color_key}: {color_val}\")\n",
    "print(f\"\\nOther Fields:\")\n",
    "for field_key, field_val in metadata['fields'].items():\n",
    "    print(f\"  {field_key}: {field_val}\")"
   ]
  },
  {
   "cell_type": "markdown",
   "metadata": {},
   "source": [
    "## Step 3: Generate LaTeX Preamble from Metadata\n",
    "\n",
    "Convert metadata back to LaTeX `\\renewcommand` statements."
   ]
  },
  {
   "cell_type": "code",
   "execution_count": null,
   "metadata": {},
   "outputs": [],
   "source": [
    "generated_preamble = generator.generate_preamble(metadata)\n",
    "\n",
    "print(\"Generated Preamble:\")\n",
    "print(\"=\" * 60)\n",
    "print(generated_preamble)"
   ]
  },
  {
   "cell_type": "markdown",
   "metadata": {},
   "source": [
    "## Step 4: Parse Generated Preamble → Metadata Dict (Round-trip)\n",
    "\n",
    "Parse the generated preamble to verify round-trip fidelity."
   ]
  },
  {
   "cell_type": "code",
   "execution_count": null,
   "metadata": {},
   "outputs": [],
   "source": [
    "# Wrap preamble in document for parser\n",
    "test_latex = generated_preamble + \"\\n\\\\begin{document}\\n\\\\end{document}\"\n",
    "roundtrip_metadata = parser.extract_document_metadata(test_latex)\n",
    "\n",
    "print(\"Round-trip Metadata:\")\n",
    "print(\"=\" * 60)\n",
    "print(f\"Name: {roundtrip_metadata['name']}\")\n",
    "print(f\"Date: {roundtrip_metadata['date']}\")\n",
    "print(f\"Brand: {roundtrip_metadata['brand']}\")\n",
    "print(f\"\\nProfessional Profile: {roundtrip_metadata['professional_profile']}\")\n",
    "print(f\"\\nColors:\")\n",
    "for color_key, color_val in roundtrip_metadata['colors'].items():\n",
    "    print(f\"  {color_key}: {color_val}\")"
   ]
  },
  {
   "cell_type": "markdown",
   "metadata": {},
   "source": [
    "## Step 5: Validate Round-trip Fidelity\n",
    "\n",
    "Compare original metadata with round-trip metadata."
   ]
  },
  {
   "cell_type": "code",
   "execution_count": 11,
   "metadata": {},
   "outputs": [
    {
     "name": "stdout",
     "output_type": "stream",
     "text": [
      "Validation Results:\n",
      "============================================================\n",
      "✓ Name preserved: True\n",
      "✓ Date preserved: True\n",
      "✓ Brand preserved: True\n",
      "✓ Profile preserved: True\n",
      "✓ Colors preserved: True\n",
      "\n",
      "============================================================\n",
      "✅ SUCCESS: All metadata preserved through round-trip!\n"
     ]
    }
   ],
   "source": [
    "print(\"Validation Results:\")\n",
    "print(\"=\" * 60)\n",
    "\n",
    "# Check name\n",
    "name_match = metadata['name'] == roundtrip_metadata['name']\n",
    "print(f\"✓ Name preserved: {name_match}\" if name_match else f\"✗ Name mismatch: {metadata['name']} != {roundtrip_metadata['name']}\")\n",
    "\n",
    "# Check date\n",
    "date_match = metadata['date'] == roundtrip_metadata['date']\n",
    "print(f\"✓ Date preserved: {date_match}\" if date_match else f\"✗ Date mismatch: {metadata['date']} != {roundtrip_metadata['date']}\")\n",
    "\n",
    "# Check brand\n",
    "brand_match = metadata['brand'] == roundtrip_metadata['brand']\n",
    "print(f\"✓ Brand preserved: {brand_match}\" if brand_match else f\"✗ Brand mismatch: {metadata['brand']} != {roundtrip_metadata['brand']}\")\n",
    "\n",
    "# Check professional profile\n",
    "profile_match = metadata['professional_profile'] == roundtrip_metadata['professional_profile']\n",
    "print(f\"✓ Profile preserved: {profile_match}\" if profile_match else f\"✗ Profile mismatch\")\n",
    "\n",
    "# Check colors\n",
    "colors_match = metadata['colors'] == roundtrip_metadata['colors']\n",
    "print(f\"✓ Colors preserved: {colors_match}\" if colors_match else f\"✗ Colors mismatch: {metadata['colors']} != {roundtrip_metadata['colors']}\")\n",
    "\n",
    "# Overall success\n",
    "all_match = name_match and date_match and brand_match and profile_match and colors_match\n",
    "print(\"\\n\" + \"=\" * 60)\n",
    "if all_match:\n",
    "    print(\"✅ SUCCESS: All metadata preserved through round-trip!\")\n",
    "else:\n",
    "    print(\"❌ FAILURE: Some metadata lost or corrupted\")"
   ]
  },
  {
   "cell_type": "markdown",
   "metadata": {},
   "source": [
    "## Step 6: Test Edge Cases\n",
    "\n",
    "Test metadata without professional profile."
   ]
  },
  {
   "cell_type": "code",
   "execution_count": 12,
   "metadata": {},
   "outputs": [
    {
     "name": "stdout",
     "output_type": "stream",
     "text": [
      "Minimal Metadata (no profile):\n",
      "============================================================\n",
      "Name: \n",
      "Date: January 2025\n",
      "Brand: Software Engineer\n",
      "Profile: None\n",
      "Colors: {'emphcolor': 'black'}\n",
      "\n",
      "✅ Optional profile field handled correctly (None)\n"
     ]
    }
   ],
   "source": [
    "minimal_latex = \"\"\"\\nrenewcommand{\\\\myname}{\\\\textbf{Test Name}}\n",
    "\\\\renewcommand{\\\\mydate}{January 2025}\n",
    "\\\\renewcommand{\\\\brand}{Software Engineer}\n",
    "\\\\renewcommand{\\\\emphcolor}{black}\n",
    "\n",
    "\\\\begin{document}\n",
    "\\\\end{document}\n",
    "\"\"\"\n",
    "\n",
    "minimal_metadata = parser.extract_document_metadata(minimal_latex)\n",
    "\n",
    "print(\"Minimal Metadata (no profile):\")\n",
    "print(\"=\" * 60)\n",
    "print(f\"Name: {minimal_metadata['name']}\")\n",
    "print(f\"Date: {minimal_metadata['date']}\")\n",
    "print(f\"Brand: {minimal_metadata['brand']}\")\n",
    "print(f\"Profile: {minimal_metadata['professional_profile']}\")\n",
    "print(f\"Colors: {minimal_metadata['colors']}\")\n",
    "\n",
    "if minimal_metadata['professional_profile'] is None:\n",
    "    print(\"\\n✅ Optional profile field handled correctly (None)\")\n",
    "else:\n",
    "    print(f\"\\n❌ Profile should be None, got: {minimal_metadata['professional_profile']}\")"
   ]
  },
  {
   "cell_type": "markdown",
   "metadata": {},
   "source": [
    "## Summary\n",
    "\n",
    "### What We Validated\n",
    "\n",
    "1. ✅ **Preamble parsing** - All `\\renewcommand` fields extracted\n",
    "2. ✅ **Color separation** - Color fields separated from general fields\n",
    "3. ✅ **LaTeX command cleaning** - `\\textbf{...}`, `\\centering`, `\\par` removed from values\n",
    "4. ✅ **Preamble generation** - Valid LaTeX syntax produced\n",
    "5. ✅ **Round-trip fidelity** - All metadata preserved through conversion\n",
    "6. ✅ **Optional fields** - Professional profile can be None\n",
    "\n",
    "### Next Steps\n",
    "\n",
    "Step 6 will add:\n",
    "- Multi-page parsing with `extract_pages()`\n",
    "- Page 2 bottom bar extraction\n",
    "- Complete document assembly with `generate_document()`"
   ]
  },
  {
   "cell_type": "markdown",
   "metadata": {},
   "source": []
  }
 ],
 "metadata": {
  "kernelspec": {
   "display_name": ".venv",
   "language": "python",
   "name": "python3"
  },
  "language_info": {
   "codemirror_mode": {
    "name": "ipython",
    "version": 3
   },
   "file_extension": ".py",
   "mimetype": "text/x-python",
   "name": "python",
   "nbconvert_exporter": "python",
   "pygments_lexer": "ipython3",
   "version": "3.10.12"
  }
 },
 "nbformat": 4,
 "nbformat_minor": 4
}
