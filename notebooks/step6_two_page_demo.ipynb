{
 "cells": [
  {
   "cell_type": "markdown",
   "metadata": {},
   "source": [
    "# Step 6: Two-Page Document Support Demo\n",
    "\n",
    "This notebook demonstrates **multi-page document parsing** - splitting LaTeX documents on `\\clearpage` markers and parsing each page separately.\n",
    "\n",
    "## What We're Testing\n",
    "\n",
    "1. **Extract pages from LaTeX document** - Split on `\\clearpage` markers\n",
    "2. **Handle paracol spanning pages** - Single paracol environment across multiple pages\n",
    "3. **Parse continuation pages** - Pages without `\\switchcolumn` (main column only)\n",
    "4. **Validate page structure** - Each page has correct regions\n",
    "\n",
    "## Success Criteria\n",
    "\n",
    "- ✅ Document splits correctly on `\\clearpage`\n",
    "- ✅ Page 1 has both left and main columns\n",
    "- ✅ Page 2 has only main column (continuation)\n",
    "- ✅ All content preserved across pages\n",
    "- ✅ Page numbers correctly assigned"
   ]
  },
  {
   "cell_type": "code",
   "execution_count": 3,
   "metadata": {},
   "outputs": [
    {
     "name": "stdout",
     "output_type": "stream",
     "text": [
      "✓ Project root: /home/sean/ARCHER\n",
      "✓ Test fixtures: /home/sean/ARCHER/data/resume_archive/structured\n"
     ]
    }
   ],
   "source": [
    "import os\n",
    "import sys\n",
    "from pathlib import Path\n",
    "from dotenv import load_dotenv\n",
    "\n",
    "# Add project root to path\n",
    "project_root = Path.cwd().parent\n",
    "sys.path.insert(0, str(project_root))\n",
    "\n",
    "load_dotenv()\n",
    "STRUCTURED_PATH = Path(os.getenv(\"RESUME_ARCHIVE_PATH\")) / \"structured\"\n",
    "\n",
    "print(f\"✓ Project root: {project_root}\")\n",
    "print(f\"✓ Test fixtures: {STRUCTURED_PATH}\")"
   ]
  },
  {
   "cell_type": "code",
   "execution_count": 4,
   "metadata": {},
   "outputs": [
    {
     "name": "stdout",
     "output_type": "stream",
     "text": [
      "✓ Parser loaded\n"
     ]
    }
   ],
   "source": [
    "from archer.contexts.templating.converter import LaTeXToYAMLConverter\n",
    "from omegaconf import OmegaConf\n",
    "\n",
    "parser = LaTeXToYAMLConverter()\n",
    "\n",
    "print(\"✓ Parser loaded\")"
   ]
  },
  {
   "cell_type": "markdown",
   "metadata": {},
   "source": [
    "## Step 1: Load Two-Page LaTeX Document\n",
    "\n",
    "Load a test fixture with two pages separated by `\\clearpage`."
   ]
  },
  {
   "cell_type": "code",
   "execution_count": 5,
   "metadata": {},
   "outputs": [
    {
     "name": "stdout",
     "output_type": "stream",
     "text": [
      "Original LaTeX (first 500 chars):\n",
      "============================================================\n",
      "\\begin{document}\n",
      "\\begin{paracol}{2}\n",
      "\n",
      "% Page 1 - Left Column\n",
      "\\section*{Core Skills}\n",
      "   { \\setlength{\\baselineskip}{10pt} \\setlength{\\parskip}{7.5pt} \\scshape\n",
      "\n",
      "    Machine Learning\n",
      "\n",
      "    High-Performance\\\\Computing (HPC)\n",
      "\n",
      "    MLOps\n",
      "\n",
      "   }\n",
      "\n",
      "\\switchcolumn\n",
      "\n",
      "% Page 1 - Main Column\n",
      "\\section*{Experience}\n",
      "\n",
      "    \\begin{itemizeAcademic}{Test Company}{Software Engineer}{City, ST}{2023 -- Present}\n",
      "\n",
      "        \\itemi Built scalable ML infrastructure\n",
      "\n",
      "        \\itemi Reduced latency by 50\\%\n",
      "\n",
      "    \\end{itemizeAcademic}\n",
      "...\n",
      "\n",
      "\\clearpage found at position 502\n",
      "\n",
      "Context around \\clearpage:\n",
      "duced latency by 50\\%\n",
      "\n",
      "    \\end{itemizeAcademic}\n",
      "\n",
      "\\clearpage\n",
      "\n",
      "% Page 2 - Main Column (continues from page 1)\n",
      "\\section*{More Experience}\n",
      "\n",
      "    \\begin{it\n"
     ]
    }
   ],
   "source": [
    "latex_path = STRUCTURED_PATH / \"two_page_test.tex\"\n",
    "paracol_content = latex_path.read_text(encoding=\"utf-8\")\n",
    "\n",
    "# Need to wrap in document markers for extract_pages()\n",
    "latex_str = \"\\\\begin{document}\\n\" + paracol_content + \"\\n\\\\end{document}\"\n",
    "\n",
    "print(\"Original LaTeX (first 500 chars):\")\n",
    "print(\"=\" * 60)\n",
    "print(latex_str[:500])\n",
    "print(\"...\\n\")\n",
    "\n",
    "# Show where \\clearpage appears\n",
    "clearpage_pos = latex_str.find(\"\\\\clearpage\")\n",
    "print(f\"\\\\clearpage found at position {clearpage_pos}\")\n",
    "print(\"\\nContext around \\\\clearpage:\")\n",
    "print(latex_str[clearpage_pos-50:clearpage_pos+100])"
   ]
  },
  {
   "cell_type": "markdown",
   "metadata": {},
   "source": [
    "## Step 2: Extract All Pages\n",
    "\n",
    "Use `extract_pages()` to split document on `\\clearpage` markers."
   ]
  },
  {
   "cell_type": "code",
   "execution_count": 6,
   "metadata": {},
   "outputs": [
    {
     "name": "stdout",
     "output_type": "stream",
     "text": [
      "Extracted 2 pages\n",
      "============================================================\n",
      "\n",
      "Page 1:\n",
      "  Show profile: True\n",
      "  Left column: True\n",
      "  Main column: True\n",
      "  Left sections: ['Core Skills']\n",
      "  Main sections: ['Experience']\n",
      "\n",
      "Page 2:\n",
      "  Show profile: False\n",
      "  Left column: False\n",
      "  Main column: True\n",
      "  Main sections: ['More Experience']\n"
     ]
    }
   ],
   "source": [
    "pages = parser.extract_pages(latex_str)\n",
    "\n",
    "print(f\"Extracted {len(pages)} pages\")\n",
    "print(\"=\" * 60)\n",
    "\n",
    "for page in pages:\n",
    "    page_num = page[\"page_number\"]\n",
    "    regions = page[\"regions\"]\n",
    "    \n",
    "    print(f\"\\nPage {page_num}:\")\n",
    "    print(f\"  Show profile: {regions['top']['show_professional_profile']}\")\n",
    "    print(f\"  Left column: {regions['left_column'] is not None}\")\n",
    "    print(f\"  Main column: {regions['main_column'] is not None}\")\n",
    "    \n",
    "    if regions['left_column']:\n",
    "        left_sections = [s['name'] for s in regions['left_column']['sections']]\n",
    "        print(f\"  Left sections: {left_sections}\")\n",
    "    \n",
    "    if regions['main_column']:\n",
    "        main_sections = [s['name'] for s in regions['main_column']['sections']]\n",
    "        print(f\"  Main sections: {main_sections}\")"
   ]
  },
  {
   "cell_type": "markdown",
   "metadata": {},
   "source": [
    "## Step 3: Validate Page 1 Structure\n",
    "\n",
    "Page 1 should have both left and main columns."
   ]
  },
  {
   "cell_type": "code",
   "execution_count": 7,
   "metadata": {},
   "outputs": [
    {
     "name": "stdout",
     "output_type": "stream",
     "text": [
      "Page 1 Validation:\n",
      "============================================================\n",
      "✓ Page number is 1\n",
      "✓ Professional profile shown (page 1)\n",
      "✓ Has both left and main columns\n",
      "\n",
      "Left column (1 sections):\n",
      "  - Core Skills (skill_list_caps)\n",
      "\n",
      "Main column (1 sections):\n",
      "  - Experience (work_history)\n",
      "    → Test Company\n"
     ]
    }
   ],
   "source": [
    "page1 = pages[0]\n",
    "\n",
    "print(\"Page 1 Validation:\")\n",
    "print(\"=\" * 60)\n",
    "\n",
    "# Check page number\n",
    "assert page1[\"page_number\"] == 1\n",
    "print(\"✓ Page number is 1\")\n",
    "\n",
    "# Check professional profile\n",
    "assert page1[\"regions\"][\"top\"][\"show_professional_profile\"] == True\n",
    "print(\"✓ Professional profile shown (page 1)\")\n",
    "\n",
    "# Check has both columns\n",
    "assert page1[\"regions\"][\"left_column\"] is not None\n",
    "assert page1[\"regions\"][\"main_column\"] is not None\n",
    "print(\"✓ Has both left and main columns\")\n",
    "\n",
    "# Check sections\n",
    "left_sections = page1[\"regions\"][\"left_column\"][\"sections\"]\n",
    "main_sections = page1[\"regions\"][\"main_column\"][\"sections\"]\n",
    "\n",
    "print(f\"\\nLeft column ({len(left_sections)} sections):\")\n",
    "for section in left_sections:\n",
    "    print(f\"  - {section['name']} ({section['type']})\")\n",
    "\n",
    "print(f\"\\nMain column ({len(main_sections)} sections):\")\n",
    "for section in main_sections:\n",
    "    print(f\"  - {section['name']} ({section['type']})\")\n",
    "    if section.get('subsections'):\n",
    "        for subsection in section['subsections']:\n",
    "            company = subsection.get('metadata', {}).get('company', 'N/A')\n",
    "            print(f\"    → {company}\")"
   ]
  },
  {
   "cell_type": "markdown",
   "metadata": {},
   "source": [
    "## Step 4: Validate Page 2 Structure\n",
    "\n",
    "Page 2 should have only main column (continuation page, no `\\switchcolumn`)."
   ]
  },
  {
   "cell_type": "code",
   "execution_count": 8,
   "metadata": {},
   "outputs": [
    {
     "name": "stdout",
     "output_type": "stream",
     "text": [
      "Page 2 Validation:\n",
      "============================================================\n",
      "✓ Page number is 2\n",
      "✓ Professional profile hidden (page 2)\n",
      "✓ No left column (continuation page)\n",
      "✓ Has main column\n",
      "\n",
      "Main column (1 sections):\n",
      "  - More Experience (work_history)\n",
      "    → Another Company\n"
     ]
    }
   ],
   "source": [
    "page2 = pages[1]\n",
    "\n",
    "print(\"Page 2 Validation:\")\n",
    "print(\"=\" * 60)\n",
    "\n",
    "# Check page number\n",
    "assert page2[\"page_number\"] == 2\n",
    "print(\"✓ Page number is 2\")\n",
    "\n",
    "# Check professional profile hidden\n",
    "assert page2[\"regions\"][\"top\"][\"show_professional_profile\"] == False\n",
    "print(\"✓ Professional profile hidden (page 2)\")\n",
    "\n",
    "# Check has only main column (no left column)\n",
    "assert page2[\"regions\"][\"left_column\"] is None\n",
    "print(\"✓ No left column (continuation page)\")\n",
    "\n",
    "assert page2[\"regions\"][\"main_column\"] is not None\n",
    "print(\"✓ Has main column\")\n",
    "\n",
    "# Check sections\n",
    "main_sections = page2[\"regions\"][\"main_column\"][\"sections\"]\n",
    "\n",
    "print(f\"\\nMain column ({len(main_sections)} sections):\")\n",
    "for section in main_sections:\n",
    "    print(f\"  - {section['name']} ({section['type']})\")\n",
    "    if section.get('subsections'):\n",
    "        for subsection in section['subsections']:\n",
    "            company = subsection.get('metadata', {}).get('company', 'N/A')\n",
    "            print(f\"    → {company}\")"
   ]
  },
  {
   "cell_type": "markdown",
   "metadata": {},
   "source": [
    "## Step 5: Validate Content Preservation\n",
    "\n",
    "Check that all content survives page splitting."
   ]
  },
  {
   "cell_type": "code",
   "execution_count": 9,
   "metadata": {},
   "outputs": [
    {
     "name": "stdout",
     "output_type": "stream",
     "text": [
      "Content Preservation Validation:\n",
      "============================================================\n",
      "\n",
      "Page 1 Experience:\n",
      "  Company: Test Company\n",
      "  Bullets: 2\n",
      "  ✓ Page 1 content preserved\n",
      "\n",
      "Page 2 Experience:\n",
      "  Company: Another Company\n",
      "  Title: Senior Engineer\n",
      "  Bullets: 2\n",
      "  ✓ Page 2 content preserved\n"
     ]
    }
   ],
   "source": [
    "print(\"Content Preservation Validation:\")\n",
    "print(\"=\" * 60)\n",
    "\n",
    "# Page 1 content\n",
    "page1_exp = page1[\"regions\"][\"main_column\"][\"sections\"][0]\n",
    "page1_company = page1_exp[\"subsections\"][0][\"metadata\"][\"company\"]\n",
    "page1_bullets = len(page1_exp[\"subsections\"][0][\"content\"][\"bullets\"])\n",
    "\n",
    "print(f\"\\nPage 1 Experience:\")\n",
    "print(f\"  Company: {page1_company}\")\n",
    "print(f\"  Bullets: {page1_bullets}\")\n",
    "\n",
    "assert page1_company == \"Test Company\"\n",
    "assert page1_bullets == 2\n",
    "print(\"  ✓ Page 1 content preserved\")\n",
    "\n",
    "# Page 2 content\n",
    "page2_exp = page2[\"regions\"][\"main_column\"][\"sections\"][0]\n",
    "page2_company = page2_exp[\"subsections\"][0][\"metadata\"][\"company\"]\n",
    "page2_title = page2_exp[\"subsections\"][0][\"metadata\"][\"title\"]\n",
    "page2_bullets = len(page2_exp[\"subsections\"][0][\"content\"][\"bullets\"])\n",
    "\n",
    "print(f\"\\nPage 2 Experience:\")\n",
    "print(f\"  Company: {page2_company}\")\n",
    "print(f\"  Title: {page2_title}\")\n",
    "print(f\"  Bullets: {page2_bullets}\")\n",
    "\n",
    "assert page2_company == \"Another Company\"\n",
    "assert page2_title == \"Senior Engineer\"\n",
    "assert page2_bullets == 2\n",
    "print(\"  ✓ Page 2 content preserved\")"
   ]
  },
  {
   "cell_type": "markdown",
   "metadata": {},
   "source": [
    "## Step 6: Compare with Expected YAML\n",
    "\n",
    "Load the expected YAML and verify parsed structure matches."
   ]
  },
  {
   "cell_type": "code",
   "execution_count": 10,
   "metadata": {},
   "outputs": [
    {
     "name": "stdout",
     "output_type": "stream",
     "text": [
      "YAML Comparison:\n",
      "============================================================\n",
      "✓ Page count matches: 2 pages\n",
      "✓ Page numbers match\n",
      "✓ Page 1 left column: 1 sections\n",
      "✓ Page 1 main column: 1 sections\n",
      "✓ Page 2 main column: 1 sections\n"
     ]
    }
   ],
   "source": [
    "yaml_path = STRUCTURED_PATH / \"two_page_test.yaml\"\n",
    "yaml_data = OmegaConf.load(yaml_path)\n",
    "expected_pages = OmegaConf.to_container(yaml_data[\"document\"][\"pages\"], resolve=True)\n",
    "\n",
    "print(\"YAML Comparison:\")\n",
    "print(\"=\" * 60)\n",
    "\n",
    "# Check page count\n",
    "assert len(pages) == len(expected_pages)\n",
    "print(f\"✓ Page count matches: {len(pages)} pages\")\n",
    "\n",
    "# Check page numbers\n",
    "for parsed, expected in zip(pages, expected_pages):\n",
    "    assert parsed[\"page_number\"] == expected[\"page_number\"]\n",
    "print(\"✓ Page numbers match\")\n",
    "\n",
    "# Check section counts\n",
    "p1_left_count = len(pages[0][\"regions\"][\"left_column\"][\"sections\"])\n",
    "e1_left_count = len(expected_pages[0][\"regions\"][\"left_column\"][\"sections\"])\n",
    "assert p1_left_count == e1_left_count\n",
    "print(f\"✓ Page 1 left column: {p1_left_count} sections\")\n",
    "\n",
    "p1_main_count = len(pages[0][\"regions\"][\"main_column\"][\"sections\"])\n",
    "e1_main_count = len(expected_pages[0][\"regions\"][\"main_column\"][\"sections\"])\n",
    "assert p1_main_count == e1_main_count\n",
    "print(f\"✓ Page 1 main column: {p1_main_count} sections\")\n",
    "\n",
    "p2_main_count = len(pages[1][\"regions\"][\"main_column\"][\"sections\"])\n",
    "e2_main_count = len(expected_pages[1][\"regions\"][\"main_column\"][\"sections\"])\n",
    "assert p2_main_count == e2_main_count\n",
    "print(f\"✓ Page 2 main column: {p2_main_count} sections\")"
   ]
  },
  {
   "cell_type": "markdown",
   "metadata": {},
   "source": [
    "## Step 7: Test Edge Case - No Cross-Page Contamination\n",
    "\n",
    "Verify sections don't appear on wrong pages."
   ]
  },
  {
   "cell_type": "code",
   "execution_count": 11,
   "metadata": {},
   "outputs": [
    {
     "name": "stdout",
     "output_type": "stream",
     "text": [
      "Cross-Page Contamination Check:\n",
      "============================================================\n",
      "Page 1 sections: ['Core Skills', 'Experience']\n",
      "Page 2 sections: ['More Experience']\n",
      "\n",
      "✓ 'More Experience' only on page 2\n",
      "✓ 'Core Skills' only on page 1\n",
      "✓ 'Experience' only on page 1\n"
     ]
    }
   ],
   "source": [
    "print(\"Cross-Page Contamination Check:\")\n",
    "print(\"=\" * 60)\n",
    "\n",
    "# Get all section names from each page\n",
    "page1_sections = []\n",
    "if pages[0][\"regions\"][\"left_column\"]:\n",
    "    page1_sections.extend([s[\"name\"] for s in pages[0][\"regions\"][\"left_column\"][\"sections\"]])\n",
    "if pages[0][\"regions\"][\"main_column\"]:\n",
    "    page1_sections.extend([s[\"name\"] for s in pages[0][\"regions\"][\"main_column\"][\"sections\"]])\n",
    "\n",
    "page2_sections = []\n",
    "if pages[1][\"regions\"][\"main_column\"]:\n",
    "    page2_sections.extend([s[\"name\"] for s in pages[1][\"regions\"][\"main_column\"][\"sections\"]])\n",
    "\n",
    "print(f\"Page 1 sections: {page1_sections}\")\n",
    "print(f\"Page 2 sections: {page2_sections}\")\n",
    "\n",
    "# Verify \"More Experience\" is only on page 2\n",
    "assert \"More Experience\" in page2_sections\n",
    "assert \"More Experience\" not in page1_sections\n",
    "print(\"\\n✓ 'More Experience' only on page 2\")\n",
    "\n",
    "# Verify \"Core Skills\" is only on page 1\n",
    "assert \"Core Skills\" in page1_sections\n",
    "assert \"Core Skills\" not in page2_sections\n",
    "print(\"✓ 'Core Skills' only on page 1\")\n",
    "\n",
    "# Verify \"Experience\" is only on page 1\n",
    "assert \"Experience\" in page1_sections\n",
    "assert \"Experience\" not in page2_sections\n",
    "print(\"✓ 'Experience' only on page 1\")"
   ]
  },
  {
   "cell_type": "markdown",
   "metadata": {},
   "source": [
    "## Summary\n",
    "\n",
    "### What We Validated\n",
    "\n",
    "1. ✅ **Multi-page splitting** - Document correctly split on `\\clearpage`\n",
    "2. ✅ **Page structure** - Page 1 has both columns, Page 2 has main only\n",
    "3. ✅ **Professional profile** - Shown on page 1, hidden on page 2\n",
    "4. ✅ **Content preservation** - All sections and content preserved\n",
    "5. ✅ **No cross-contamination** - Sections appear on correct pages only\n",
    "6. ✅ **YAML match** - Parsed structure matches expected YAML\n",
    "\n",
    "### Key Capabilities Demonstrated\n",
    "\n",
    "- **Paracol spanning pages** - Single `\\begin{paracol}...\\end{paracol}` across multiple pages\n",
    "- **Continuation pages** - Pages without `\\switchcolumn` handled correctly\n",
    "- **Page metadata** - Page numbers and professional profile flags correct\n",
    "- **Hierarchical parsing** - Section parsing composes correctly with page parsing\n",
    "\n",
    "### Next Steps\n",
    "\n",
    "With two-page support complete, ARCHER can now parse real 2-page resumes from the archive. The next milestone would be:\n",
    "- Complete document parsing (metadata + pages)\n",
    "- Full Dalcom resume round-trip test\n",
    "- Document generation (assembling complete documents)"
   ]
  },
  {
   "cell_type": "markdown",
   "metadata": {},
   "source": []
  }
 ],
 "metadata": {
  "kernelspec": {
   "display_name": ".venv",
   "language": "python",
   "name": "python3"
  },
  "language_info": {
   "codemirror_mode": {
    "name": "ipython",
    "version": 3
   },
   "file_extension": ".py",
   "mimetype": "text/x-python",
   "name": "python",
   "nbconvert_exporter": "python",
   "pygments_lexer": "ipython3",
   "version": "3.10.12"
  }
 },
 "nbformat": 4,
 "nbformat_minor": 4
}
