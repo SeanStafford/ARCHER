{
 "cells": [
  {
   "cell_type": "markdown",
   "metadata": {},
   "source": [
    "# Resume Pattern Analysis Demo\n",
    "\n",
    "Demonstrates the various analysis capabilities:\n",
    "1. **Exact substring matching** (whole document)\n",
    "2. **Regex pattern matching** (whole document)\n",
    "3. **Field-specific search** (e.g., only search within `\\brand` field)\n",
    "4. **Field value enumeration** (discover all unique values)\n",
    "5. **Combined analysis** (compare different approaches)"
   ]
  },
  {
   "cell_type": "code",
   "execution_count": 1,
   "metadata": {},
   "outputs": [
    {
     "name": "stdout",
     "output_type": "stream",
     "text": [
      "Analyzing resumes in: /home/sean/ARCHER/data/resume_archive\n",
      "Number of resume files: 57\n"
     ]
    }
   ],
   "source": [
    "# Setup\n",
    "import os\n",
    "from pathlib import Path\n",
    "from dotenv import load_dotenv\n",
    "from archer.utils.resume_analyzer import (\n",
    "    analyze_keyword_frequencies,\n",
    "    analyze_keywords_in_field,\n",
    "    enumerate_field_values,\n",
    "    count_pattern_matches\n",
    ")\n",
    "\n",
    "load_dotenv()\n",
    "RESUME_ARCHIVE_PATH = Path(os.getenv(\"RESUME_ARCHIVE_PATH\"))\n",
    "print(f\"Analyzing resumes in: {RESUME_ARCHIVE_PATH}\")\n",
    "print(f\"Number of resume files: {len(list(RESUME_ARCHIVE_PATH.glob('*.tex')))}\")"
   ]
  },
  {
   "cell_type": "code",
   "execution_count": 10,
   "metadata": {},
   "outputs": [
    {
     "name": "stdout",
     "output_type": "stream",
     "text": [
      "Exact substring search across entire document (57 resumes):\n",
      "Keyword                   Resumes    % Resumes    Total Occurrences\n",
      "-----------------------------------------------------------------\n",
      "Machine Learning          57              100.0%               175\n",
      "ML                        57              100.0%               731\n",
      "AI                        51               89.5%               247\n",
      "Artificial Intelligence   1                 1.8%                 1\n",
      "Physics                   57              100.0%               223\n",
      "LLM                       57              100.0%               588\n",
      "Large Language Model      40               70.2%                40\n",
      "transformer               56               98.2%               129\n",
      "CUDA                      57              100.0%               129\n"
     ]
    }
   ],
   "source": [
    "# Example 1: Exact substring matching (whole document)\n",
    "# How many resumes contain \"Machine Learning\" anywhere in the document?\n",
    "\n",
    "keywords = {\n",
    "    \"ML Terms\": [\"Machine Learning\", \"ML\", \"AI\", \"Artificial Intelligence\", \"Physics\", \"LLM\", \"Large Language Model\", \"transformer\", \"CUDA\"]\n",
    "}\n",
    "\n",
    "num_resumes, total_chars, occurrences, resume_count = analyze_keyword_frequencies(\n",
    "    RESUME_ARCHIVE_PATH, keywords\n",
    ")\n",
    "\n",
    "print(f\"Exact substring search across entire document ({num_resumes} resumes):\")\n",
    "print(f\"{'Keyword':<25} {'Resumes':<10} {'% Resumes':<12} {'Total Occurrences'}\")\n",
    "print(\"-\" * 65)\n",
    "for kw in keywords[\"ML Terms\"]:\n",
    "    count = resume_count.get(kw, 0)\n",
    "    percent = (count / num_resumes) * 100\n",
    "    total = occurrences.get(kw, 0)\n",
    "    print(f\"{kw:<25} {count:<10} {percent:>10.1f}% {total:>17}\")"
   ]
  },
  {
   "cell_type": "code",
   "execution_count": 31,
   "metadata": {},
   "outputs": [
    {
     "name": "stdout",
     "output_type": "stream",
     "text": [
      "Exact search within \\brand field only (57 resumes with brand field):\n",
      "Keyword                        Count    %\n",
      "----------------------------------------------------------------------\n",
      "Physicist                      55     96.5%\n",
      "Machine Learning|ML            23     40.4%\n",
      "Artificial Intelligence|AI     15     26.3%\n",
      "Engineer                       47     82.5%\n",
      "LLM                            4       7.0%\n",
      "Scientist                      4       7.0%\n",
      "Research                       4       7.0%\n",
      "Quantum                        4       7.0%\n",
      "Data                           4       7.0%\n",
      "Software                       4       7.0%\n"
     ]
    }
   ],
   "source": [
    "# Example 2: Field-specific search (exact matching and regex pattern matching)\n",
    "# How many resumes contain \"AI\" in the brand field ONLY?\n",
    "\n",
    "keywords_brand = {\n",
    "    \"AI/ML in Title\": [\"Physicist\", r\"Machine Learning|ML\", r\"Artificial Intelligence|AI\", \"Engineer\",  \"LLM\", \"Scientist\", \"Research\", \"Quantum\", \"Data\", \"Software\" ]\n",
    "}\n",
    "\n",
    "num_with_brand, brand_chars, brand_occur, brand_count = analyze_keywords_in_field(\n",
    "    RESUME_ARCHIVE_PATH,\n",
    "    keywords_brand,\n",
    "    \"brand\",  # Only search in \\renewcommand{\\brand}{...}\n",
    "    is_regex=True\n",
    ")\n",
    "\n",
    "print(f\"Exact search within \\\\brand field only ({num_with_brand} resumes with brand field):\")\n",
    "print(f\"{'Keyword':<30} {'Count':<8} {'%'}\")\n",
    "print(\"-\" * 70)\n",
    "for kw in keywords_brand[\"AI/ML in Title\"]:\n",
    "    count = brand_count.get(kw, 0)\n",
    "    percent = (count / num_with_brand) * 100 if num_with_brand > 0 else 0\n",
    "    print(f\"{kw:<30} {count:<5} {percent:>5.1f}%\")"
   ]
  },
  {
   "cell_type": "code",
   "execution_count": null,
   "metadata": {},
   "outputs": [
    {
     "name": "stdout",
     "output_type": "stream",
     "text": [
      "Top 10 most common \\brand values (out of 25 unique):\n",
      "Brand Value                                        Count    %\n",
      "----------------------------------------------------------------------\n",
      "Machine Learning Engineer | Physicist              15        26.3%\n",
      "AI Engineer | Physicist                            5          8.8%\n",
      "Software Engineer | Physicist                      4          7.0%\n",
      "AI Systems Engineer | Computational Physicist      3          5.3%\n",
      "ML Infrastructure Engineer | HPC Physicist         3          5.3%\n",
      "LLM Testing Specialist | HPC Physicist             2          3.5%\n",
      "HPC Physicist | Quantum Engineer                   2          3.5%\n",
      "Machine Learning Engineer | HPC Physicist          2          3.5%\n",
      "Data Scientist | Computational Physicist           2          3.5%\n",
      "AI Engineer | Computational Physicist              2          3.5%\n",
      "\n",
      "Total unique brand values: 25\n"
     ]
    }
   ],
   "source": [
    "# Example 3: Field value enumeration\n",
    "# Discover all unique brand values and their frequencies\n",
    "\n",
    "field_values = enumerate_field_values(RESUME_ARCHIVE_PATH)\n",
    "\n",
    "# Show top 10 most common brand values\n",
    "brand_values = field_values.get(\"brand\", {})\n",
    "sorted_brands = sorted(brand_values.items(), key=lambda x: x[1], reverse=True)\n",
    "\n",
    "print(f\"Top 10 most common \\\\brand values (out of {len(brand_values)} unique):\")\n",
    "print(f\"{'Brand Value':<50} {'Count':<8} {'%'}\")\n",
    "print(\"-\" * 70)\n",
    "for brand, count in sorted_brands[:10]:\n",
    "    percent = (count / num_resumes) * 100\n",
    "    # Truncate for display\n",
    "    display_brand = brand if len(brand) <= 48 else brand[:45] + \"...\"\n",
    "    print(f\"{display_brand:<50} {count:<8} {percent:>5.1f}%\")\n",
    "\n",
    "print(f\"\\nTotal unique brand values: {len(brand_values)}\")"
   ]
  },
  {
   "cell_type": "code",
   "execution_count": null,
   "metadata": {},
   "outputs": [
    {
     "name": "stdout",
     "output_type": "stream",
     "text": [
      "Where does 'AI' appear?\n",
      "  Entire document:           51 resumes (89.5%)\n",
      "  In \\brand field only:      14 resumes (24.6%)\n",
      "  In \\ProfessionalProfile:   15 resumes (26.3%)\n",
      "\n",
      "Insight: 'AI' appears in the brand field in 14 resumes but\n",
      "         appears SOMEWHERE in 51 resumes (body text, skills, etc.)\n"
     ]
    }
   ],
   "source": [
    "# Example 4: Comparison - \"AI\" in whole document vs. in brand field only\n",
    "\n",
    "# Whole document\n",
    "whole_doc = {\n",
    "    \"Terms\": [\"AI\"]\n",
    "}\n",
    "_, _, _, whole_doc_count = analyze_keyword_frequencies(RESUME_ARCHIVE_PATH, whole_doc)\n",
    "\n",
    "# Brand field only\n",
    "_, _, _, brand_only_count = analyze_keywords_in_field(\n",
    "    RESUME_ARCHIVE_PATH, whole_doc, \"brand\", is_regex=False\n",
    ")\n",
    "\n",
    "# ProfessionalProfile field only\n",
    "_, _, _, profile_only_count = analyze_keywords_in_field(\n",
    "    RESUME_ARCHIVE_PATH, whole_doc, \"ProfessionalProfile\", is_regex=False\n",
    ")\n",
    "\n",
    "whole_count = whole_doc_count.get(\"AI\", 0)\n",
    "brand_ai = brand_only_count.get(\"AI\", 0)\n",
    "profile_ai = profile_only_count.get(\"AI\", 0)\n",
    "\n",
    "print(\"Where does 'AI' appear?\")\n",
    "print(f\"  Entire document:           {whole_count} resumes ({whole_count/num_resumes*100:.1f}%)\")\n",
    "print(f\"  In \\\\brand field only:      {brand_ai} resumes ({brand_ai/num_resumes*100:.1f}%)\")\n",
    "print(f\"  In \\\\ProfessionalProfile:   {profile_ai} resumes ({profile_ai/num_resumes*100:.1f}%)\")\n",
    "print(f\"\\nInsight: 'AI' appears in the brand field in {brand_ai} resumes but\")\n",
    "print(f\"         appears SOMEWHERE in {whole_count} resumes (body text, skills, etc.)\")"
   ]
  }
 ],
 "metadata": {
  "kernelspec": {
   "display_name": ".venv",
   "language": "python",
   "name": "python3"
  },
  "language_info": {
   "codemirror_mode": {
    "name": "ipython",
    "version": 3
   },
   "file_extension": ".py",
   "mimetype": "text/x-python",
   "name": "python",
   "nbconvert_exporter": "python",
   "pygments_lexer": "ipython3",
   "version": "3.10.12"
  }
 },
 "nbformat": 4,
 "nbformat_minor": 4
}
